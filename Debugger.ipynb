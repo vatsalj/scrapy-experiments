{
 "metadata": {
  "name": "",
  "signature": "sha256:c643efcd5a5c53738767a207304a1508df1ff4d3900949b9506828444491d6dd"
 },
 "nbformat": 3,
 "nbformat_minor": 0,
 "worksheets": [
  {
   "cells": [
    {
     "cell_type": "code",
     "collapsed": false,
     "input": [
      "from __future__ import print_function\n",
      "import os\n",
      "import sys\n",
      "import uuid\n",
      "import multiprocessing\n",
      "from multiprocessing.queues import Queue\n",
      "import lxml.etree\n",
      "import lxml.html\n",
      "from scrapy import project, signals\n",
      "from scrapy.spider import Spider\n",
      "from scrapy.item import Item, Field\n",
      "from scrapy.crawler import CrawlerProcess\n",
      "from scrapy.xlib.pydispatch import dispatcher\n",
      "from scrapy.utils.project import get_project_settings\n",
      "from scrapy.http import Request\n",
      "from IPython import display\n",
      "from IPython.core.debugger import Tracer\n",
      "from scrapy.selector import XPathSelector, XmlXPathSelector, HtmlXPathSelector\n",
      "\n",
      "TMP_DIR = './tmp'\n",
      "\n",
      "debug_here = Tracer()\n",
      "\n",
      "class ResponseItem(Item):\n",
      "    response = Field()\n",
      "\n",
      "    \n",
      "class ResponseSpider(Spider):\n",
      "    name = 'response_spider'\n",
      "    \n",
      "    def __init__(self, url):\n",
      "        self.url = url\n",
      "        debug_here()\n",
      "        super(ResponseSpider, self).__init__()\n",
      "        \n",
      "    def start_requests(self):\n",
      "        debug_here()\n",
      "        return [Request(self.url, self.parse, dont_filter=True)]\n",
      "        \n",
      "    def parse(self, response):\n",
      "        # request with callback fails to serialize - why?\n",
      "        debug_here()\n",
      "        req = response.request.replace(callback=None)\n",
      "        return ResponseItem(\n",
      "            response=response.replace(request=req),\n",
      "        )\n",
      "    \n",
      "    \n",
      "class CrawlerWorker(multiprocessing.Process):\n",
      "    def __init__(self, result_queue, spider, settings=None):\n",
      "        multiprocessing.Process.__init__(self)\n",
      "        self.settings = settings or get_project_settings()\n",
      "        self.result_queue = result_queue\n",
      "        self.spider = spider\n",
      "        self.items = []\n",
      "        dispatcher.connect(self._scraping_started, signals.engine_started)\n",
      "        dispatcher.connect(self._item_scraped, signals.item_scraped)\n",
      "         \n",
      "    def _scraping_started(self):\n",
      "        pass\n",
      "    \n",
      "    def _item_scraped(self, item):\n",
      "        self.items.append(item)\n",
      "        \n",
      "    def run(self):\n",
      "        self.crawler_process = CrawlerProcess(self.settings)\n",
      "        self.crawler = self.crawler_process.create_crawler()\n",
      "        self.crawler.crawl(self.spider)\n",
      "        self.crawler_process.start()\n",
      "        self.crawler_process.stop()\n",
      "        self.result_queue.put(self.items)\n",
      "        \n",
      "\n",
      "def _download(url):\n",
      "    result_queue = Queue()\n",
      "    spider = ResponseSpider(url)\n",
      "    crawler = CrawlerWorker(result_queue, spider)\n",
      "    crawler.start()            \n",
      "    item = result_queue.get()[0]\n",
      "    result_queue.cancel_join_thread()\n",
      "    crawler.join()\n",
      "    return item['response']\n",
      "\n",
      "def set_base(body, base):\n",
      "    if '<base' not in body:\n",
      "        body = body.replace('<head>', '<head><base href=\"%s\">' % base)\n",
      "    return body\n",
      "\n",
      "def download(url):\n",
      "    \"\"\"\n",
      "    Download 'url' using Scrapy. Return Response.\n",
      "    \"\"\"\n",
      "    response = _download(url)\n",
      "    return response.replace(body=set_base(response.body, url))"
     ],
     "language": "python",
     "metadata": {},
     "outputs": [],
     "prompt_number": 2
    },
    {
     "cell_type": "code",
     "collapsed": false,
     "input": [
      "def _show_in_iframe(local_url):\n",
      "    fname = os.path.join(TMP_DIR, 'output.html')\n",
      "    html = \"\"\"<html><body>\n",
      "    <p><input type='button' value='Do we need'> <input type='button' value='some UI controls?'></p>\n",
      "    <hr>\n",
      "    <iframe style='width:800px; height:600px;' src=\"%s\"></iframe>\n",
      "    </body></html>\"\"\" % local_url\n",
      "    display.display(display.HTML(html))\n",
      "\n",
      "\n",
      "def show_in_iframe(html):\n",
      "    fname = os.path.join(TMP_DIR, 'output.html')\n",
      "    with open(fname, 'wb') as f:        \n",
      "        f.write(html)            \n",
      "    _show_in_iframe('http://127.0.0.1:8000/output.html')\n",
      "        \n",
      "\n",
      "def _highlight(hxs):\n",
      "    el = hxs._root\n",
      "    el.attrib['style'] = 'background-color: yellow;' + el.get('style', '')    \n",
      "\n",
      "\n",
      "def show_hxs_select(hxs, xpath):\n",
      "    for link in hxs.select(xpath):\n",
      "        _highlight(link)\n",
      "    \n",
      "    body = lxml.html.tostring(hxs._root.getroottree())\n",
      "    show_in_iframe(body)\n",
      "\n",
      "    \n",
      "def show_xpath(url, xpath, hover=False):\n",
      "    response = download(url)\n",
      "    hxs = HtmlXPathSelector(response)\n",
      "    show_hxs_select(hxs, xpath)"
     ],
     "language": "python",
     "metadata": {},
     "outputs": [],
     "prompt_number": 3
    },
    {
     "cell_type": "code",
     "collapsed": false,
     "input": [
      "n\n",
      "n\n",
      "nshow_xpath('http://crawlera.com', '//a[contains(text(), \"i\")]')"
     ],
     "language": "python",
     "metadata": {},
     "outputs": [
      {
       "output_type": "stream",
       "stream": "stdout",
       "text": [
        "> \u001b[1;32m<ipython-input-2-514c60337501>\u001b[0m(34)\u001b[0;36m__init__\u001b[1;34m()\u001b[0m\n",
        "\u001b[1;32m     33 \u001b[1;33m        \u001b[0mdebug_here\u001b[0m\u001b[1;33m(\u001b[0m\u001b[1;33m)\u001b[0m\u001b[1;33m\u001b[0m\u001b[0m\n",
        "\u001b[0m\u001b[1;32m---> 34 \u001b[1;33m        \u001b[0msuper\u001b[0m\u001b[1;33m(\u001b[0m\u001b[0mResponseSpider\u001b[0m\u001b[1;33m,\u001b[0m \u001b[0mself\u001b[0m\u001b[1;33m)\u001b[0m\u001b[1;33m.\u001b[0m\u001b[0m__init__\u001b[0m\u001b[1;33m(\u001b[0m\u001b[1;33m)\u001b[0m\u001b[1;33m\u001b[0m\u001b[0m\n",
        "\u001b[0m\u001b[1;32m     35 \u001b[1;33m\u001b[1;33m\u001b[0m\u001b[0m\n",
        "\u001b[0m\n"
       ]
      },
      {
       "name": "stdout",
       "output_type": "stream",
       "stream": "stdout",
       "text": [
        "ipdb> n\n"
       ]
      },
      {
       "output_type": "stream",
       "stream": "stdout",
       "text": [
        "--Return--\n",
        "None\n",
        "> \u001b[1;32m<ipython-input-2-514c60337501>\u001b[0m(34)\u001b[0;36m__init__\u001b[1;34m()\u001b[0m\n",
        "\u001b[1;32m     33 \u001b[1;33m        \u001b[0mdebug_here\u001b[0m\u001b[1;33m(\u001b[0m\u001b[1;33m)\u001b[0m\u001b[1;33m\u001b[0m\u001b[0m\n",
        "\u001b[0m\u001b[1;32m---> 34 \u001b[1;33m        \u001b[0msuper\u001b[0m\u001b[1;33m(\u001b[0m\u001b[0mResponseSpider\u001b[0m\u001b[1;33m,\u001b[0m \u001b[0mself\u001b[0m\u001b[1;33m)\u001b[0m\u001b[1;33m.\u001b[0m\u001b[0m__init__\u001b[0m\u001b[1;33m(\u001b[0m\u001b[1;33m)\u001b[0m\u001b[1;33m\u001b[0m\u001b[0m\n",
        "\u001b[0m\u001b[1;32m     35 \u001b[1;33m\u001b[1;33m\u001b[0m\u001b[0m\n",
        "\u001b[0m\n"
       ]
      },
      {
       "name": "stdout",
       "output_type": "stream",
       "stream": "stdout",
       "text": [
        "ipdb> n\n"
       ]
      },
      {
       "output_type": "stream",
       "stream": "stdout",
       "text": [
        "> \u001b[1;32m<ipython-input-2-514c60337501>\u001b[0m(77)\u001b[0;36m_download\u001b[1;34m()\u001b[0m\n",
        "\u001b[1;32m     76 \u001b[1;33m    \u001b[0mspider\u001b[0m \u001b[1;33m=\u001b[0m \u001b[0mResponseSpider\u001b[0m\u001b[1;33m(\u001b[0m\u001b[0murl\u001b[0m\u001b[1;33m)\u001b[0m\u001b[1;33m\u001b[0m\u001b[0m\n",
        "\u001b[0m\u001b[1;32m---> 77 \u001b[1;33m    \u001b[0mcrawler\u001b[0m \u001b[1;33m=\u001b[0m \u001b[0mCrawlerWorker\u001b[0m\u001b[1;33m(\u001b[0m\u001b[0mresult_queue\u001b[0m\u001b[1;33m,\u001b[0m \u001b[0mspider\u001b[0m\u001b[1;33m)\u001b[0m\u001b[1;33m\u001b[0m\u001b[0m\n",
        "\u001b[0m\u001b[1;32m     78 \u001b[1;33m    \u001b[0mcrawler\u001b[0m\u001b[1;33m.\u001b[0m\u001b[0mstart\u001b[0m\u001b[1;33m(\u001b[0m\u001b[1;33m)\u001b[0m\u001b[1;33m\u001b[0m\u001b[0m\n",
        "\u001b[0m\n"
       ]
      },
      {
       "name": "stdout",
       "output_type": "stream",
       "stream": "stdout",
       "text": [
        "ipdb> crawler\n"
       ]
      },
      {
       "output_type": "stream",
       "stream": "stdout",
       "text": [
        "*** NameError: name 'crawler' is not defined\n"
       ]
      },
      {
       "name": "stdout",
       "output_type": "stream",
       "stream": "stdout",
       "text": [
        "ipdb> spider\n"
       ]
      },
      {
       "output_type": "stream",
       "stream": "stdout",
       "text": [
        "<ResponseSpider 'response_spider' at 0x33f8490>\n"
       ]
      },
      {
       "name": "stdout",
       "output_type": "stream",
       "stream": "stdout",
       "text": [
        "ipdb> n\n"
       ]
      },
      {
       "output_type": "stream",
       "stream": "stdout",
       "text": [
        "> \u001b[1;32m<ipython-input-2-514c60337501>\u001b[0m(78)\u001b[0;36m_download\u001b[1;34m()\u001b[0m\n",
        "\u001b[1;32m     77 \u001b[1;33m    \u001b[0mcrawler\u001b[0m \u001b[1;33m=\u001b[0m \u001b[0mCrawlerWorker\u001b[0m\u001b[1;33m(\u001b[0m\u001b[0mresult_queue\u001b[0m\u001b[1;33m,\u001b[0m \u001b[0mspider\u001b[0m\u001b[1;33m)\u001b[0m\u001b[1;33m\u001b[0m\u001b[0m\n",
        "\u001b[0m\u001b[1;32m---> 78 \u001b[1;33m    \u001b[0mcrawler\u001b[0m\u001b[1;33m.\u001b[0m\u001b[0mstart\u001b[0m\u001b[1;33m(\u001b[0m\u001b[1;33m)\u001b[0m\u001b[1;33m\u001b[0m\u001b[0m\n",
        "\u001b[0m\u001b[1;32m     79 \u001b[1;33m    \u001b[0mitem\u001b[0m \u001b[1;33m=\u001b[0m \u001b[0mresult_queue\u001b[0m\u001b[1;33m.\u001b[0m\u001b[0mget\u001b[0m\u001b[1;33m(\u001b[0m\u001b[1;33m)\u001b[0m\u001b[1;33m[\u001b[0m\u001b[1;36m0\u001b[0m\u001b[1;33m]\u001b[0m\u001b[1;33m\u001b[0m\u001b[0m\n",
        "\u001b[0m\n"
       ]
      },
      {
       "name": "stdout",
       "output_type": "stream",
       "stream": "stdout",
       "text": [
        "ipdb> crawler\n"
       ]
      },
      {
       "output_type": "stream",
       "stream": "stdout",
       "text": [
        "<CrawlerWorker(CrawlerWorker-1, initial)>\n"
       ]
      },
      {
       "name": "stdout",
       "output_type": "stream",
       "stream": "stdout",
       "text": [
        "ipdb> crawler.start()\n"
       ]
      },
      {
       "name": "stdout",
       "output_type": "stream",
       "stream": "stdout",
       "text": [
        "ipdb> n\n"
       ]
      },
      {
       "output_type": "stream",
       "stream": "stderr",
       "text": [
        "2014-03-29 17:44:29+0530 [scrapy] INFO: Scrapy 0.23.0 started (bot: scrapybot)\n",
        "2014-03-29 17:44:29+0530 [scrapy] INFO: Optional features available: ssl, http11\n",
        "2014-03-29 17:44:29+0530 [scrapy] INFO: Overridden settings: {}\n",
        "2014-03-29 17:44:29+0530 [scrapy] INFO: Enabled extensions: LogStats, TelnetConsole, CloseSpider, WebService, CoreStats, SpiderState\n",
        "2014-03-29 17:44:29+0530 [scrapy] INFO: Enabled downloader middlewares: HttpAuthMiddleware, DownloadTimeoutMiddleware, UserAgentMiddleware, RetryMiddleware, DefaultHeadersMiddleware, MetaRefreshMiddleware, HttpCompressionMiddleware, RedirectMiddleware, CookiesMiddleware, ChunkedTransferMiddleware, DownloaderStats\n",
        "2014-03-29 17:44:29+0530 [scrapy] INFO: Enabled spider middlewares: HttpErrorMiddleware, OffsiteMiddleware, RefererMiddleware, UrlLengthMiddleware, DepthMiddleware\n",
        "2014-03-29 17:44:29+0530 [scrapy] INFO: Enabled item pipelines: \n",
        "2014-03-29 17:44:29+0530 [response_spider] INFO: Spider opened\n",
        "2014-03-29 17:44:29+0530 [response_spider] INFO: Crawled 0 pages (at 0 pages/min), scraped 0 items (at 0 items/min)\n",
        "2014-03-29 17:44:29+0530 [scrapy] DEBUG: Telnet console listening on 0.0.0.0:6023\n",
        "2014-03-29 17:44:29+0530 [scrapy] DEBUG: Web service listening on 0.0.0.0:6080\n"
       ]
      },
      {
       "output_type": "stream",
       "stream": "stdout",
       "text": [
        "AssertionError: Assertio... twice',)\n",
        "> \u001b[1;32m<ipython-input-2-514c60337501>\u001b[0m(78)\u001b[0;36m_download\u001b[1;34m()\u001b[0m\n",
        "\u001b[1;32m     77 \u001b[1;33m    \u001b[0mcrawler\u001b[0m \u001b[1;33m=\u001b[0m \u001b[0mCrawlerWorker\u001b[0m\u001b[1;33m(\u001b[0m\u001b[0mresult_queue\u001b[0m\u001b[1;33m,\u001b[0m \u001b[0mspider\u001b[0m\u001b[1;33m)\u001b[0m\u001b[1;33m\u001b[0m\u001b[0m\n",
        "\u001b[0m\u001b[1;32m---> 78 \u001b[1;33m    \u001b[0mcrawler\u001b[0m\u001b[1;33m.\u001b[0m\u001b[0mstart\u001b[0m\u001b[1;33m(\u001b[0m\u001b[1;33m)\u001b[0m\u001b[1;33m\u001b[0m\u001b[0m\n",
        "\u001b[0m\u001b[1;32m     79 \u001b[1;33m    \u001b[0mitem\u001b[0m \u001b[1;33m=\u001b[0m \u001b[0mresult_queue\u001b[0m\u001b[1;33m.\u001b[0m\u001b[0mget\u001b[0m\u001b[1;33m(\u001b[0m\u001b[1;33m)\u001b[0m\u001b[1;33m[\u001b[0m\u001b[1;36m0\u001b[0m\u001b[1;33m]\u001b[0m\u001b[1;33m\u001b[0m\u001b[0m\n",
        "\u001b[0m\n"
       ]
      },
      {
       "name": "stdout",
       "output_type": "stream",
       "stream": "stdout",
       "text": [
        "ipdb> n\n"
       ]
      },
      {
       "output_type": "stream",
       "stream": "stderr",
       "text": [
        "2014-03-29 17:44:35+0530 [response_spider] DEBUG: Crawled (200) <GET http://crawlera.com> (referer: None)\n",
        "2014-03-29 17:44:35+0530 [response_spider] DEBUG: Scraped from <200 http://crawlera.com>\n",
        "\t{'response': <200 http://crawlera.com>}\n",
        "2014-03-29 17:44:35+0530 [response_spider] INFO: Closing spider (finished)\n",
        "2014-03-29 17:44:35+0530 [response_spider] INFO: Dumping Scrapy stats:\n",
        "\t{'downloader/request_bytes': 211,\n",
        "\t 'downloader/request_count': 1,\n",
        "\t 'downloader/request_method_count/GET': 1,\n",
        "\t 'downloader/response_bytes': 2867,\n",
        "\t 'downloader/response_count': 1,\n",
        "\t 'downloader/response_status_count/200': 1,\n",
        "\t 'finish_reason': 'finished',\n",
        "\t 'finish_time': datetime.datetime(2014, 3, 29, 12, 14, 35, 111291),\n",
        "\t 'item_scraped_count': 1,\n",
        "\t 'log_count/DEBUG': 4,\n",
        "\t 'log_count/INFO': 7,\n",
        "\t 'response_received_count': 1,\n",
        "\t 'scheduler/dequeued': 1,\n",
        "\t 'scheduler/dequeued/memory': 1,\n",
        "\t 'scheduler/enqueued': 1,\n",
        "\t 'scheduler/enqueued/memory': 1,\n",
        "\t 'start_time': datetime.datetime(2014, 3, 29, 12, 14, 29, 332515)}\n",
        "2014-03-29 17:44:35+0530 [response_spider] INFO: Spider closed (finished)\n"
       ]
      },
      {
       "output_type": "stream",
       "stream": "stdout",
       "text": [
        "--Return--\n",
        "None\n",
        "> \u001b[1;32m<ipython-input-2-514c60337501>\u001b[0m(78)\u001b[0;36m_download\u001b[1;34m()\u001b[0m\n",
        "\u001b[1;32m     77 \u001b[1;33m    \u001b[0mcrawler\u001b[0m \u001b[1;33m=\u001b[0m \u001b[0mCrawlerWorker\u001b[0m\u001b[1;33m(\u001b[0m\u001b[0mresult_queue\u001b[0m\u001b[1;33m,\u001b[0m \u001b[0mspider\u001b[0m\u001b[1;33m)\u001b[0m\u001b[1;33m\u001b[0m\u001b[0m\n",
        "\u001b[0m\u001b[1;32m---> 78 \u001b[1;33m    \u001b[0mcrawler\u001b[0m\u001b[1;33m.\u001b[0m\u001b[0mstart\u001b[0m\u001b[1;33m(\u001b[0m\u001b[1;33m)\u001b[0m\u001b[1;33m\u001b[0m\u001b[0m\n",
        "\u001b[0m\u001b[1;32m     79 \u001b[1;33m    \u001b[0mitem\u001b[0m \u001b[1;33m=\u001b[0m \u001b[0mresult_queue\u001b[0m\u001b[1;33m.\u001b[0m\u001b[0mget\u001b[0m\u001b[1;33m(\u001b[0m\u001b[1;33m)\u001b[0m\u001b[1;33m[\u001b[0m\u001b[1;36m0\u001b[0m\u001b[1;33m]\u001b[0m\u001b[1;33m\u001b[0m\u001b[0m\n",
        "\u001b[0m\n"
       ]
      },
      {
       "name": "stdout",
       "output_type": "stream",
       "stream": "stdout",
       "text": [
        "ipdb> \n"
       ]
      },
      {
       "output_type": "stream",
       "stream": "stdout",
       "text": [
        "AssertionError: Assertio... twice',)\n",
        "> \u001b[1;32m<ipython-input-2-514c60337501>\u001b[0m(93)\u001b[0;36mdownload\u001b[1;34m()\u001b[0m\n",
        "\u001b[1;32m     92 \u001b[1;33m    \"\"\"\n",
        "\u001b[0m\u001b[1;32m---> 93 \u001b[1;33m    \u001b[0mresponse\u001b[0m \u001b[1;33m=\u001b[0m \u001b[0m_download\u001b[0m\u001b[1;33m(\u001b[0m\u001b[0murl\u001b[0m\u001b[1;33m)\u001b[0m\u001b[1;33m\u001b[0m\u001b[0m\n",
        "\u001b[0m\u001b[1;32m     94 \u001b[1;33m    \u001b[1;32mreturn\u001b[0m \u001b[0mresponse\u001b[0m\u001b[1;33m.\u001b[0m\u001b[0mreplace\u001b[0m\u001b[1;33m(\u001b[0m\u001b[0mbody\u001b[0m\u001b[1;33m=\u001b[0m\u001b[0mset_base\u001b[0m\u001b[1;33m(\u001b[0m\u001b[0mresponse\u001b[0m\u001b[1;33m.\u001b[0m\u001b[0mbody\u001b[0m\u001b[1;33m,\u001b[0m \u001b[0murl\u001b[0m\u001b[1;33m)\u001b[0m\u001b[1;33m)\u001b[0m\u001b[1;33m\u001b[0m\u001b[0m\n",
        "\u001b[0m\n"
       ]
      },
      {
       "name": "stdout",
       "output_type": "stream",
       "stream": "stdout",
       "text": [
        "ipdb> n\n"
       ]
      },
      {
       "output_type": "stream",
       "stream": "stdout",
       "text": [
        "--Return--\n",
        "None\n",
        "> \u001b[1;32m<ipython-input-2-514c60337501>\u001b[0m(93)\u001b[0;36mdownload\u001b[1;34m()\u001b[0m\n",
        "\u001b[1;32m     92 \u001b[1;33m    \"\"\"\n",
        "\u001b[0m\u001b[1;32m---> 93 \u001b[1;33m    \u001b[0mresponse\u001b[0m \u001b[1;33m=\u001b[0m \u001b[0m_download\u001b[0m\u001b[1;33m(\u001b[0m\u001b[0murl\u001b[0m\u001b[1;33m)\u001b[0m\u001b[1;33m\u001b[0m\u001b[0m\n",
        "\u001b[0m\u001b[1;32m     94 \u001b[1;33m    \u001b[1;32mreturn\u001b[0m \u001b[0mresponse\u001b[0m\u001b[1;33m.\u001b[0m\u001b[0mreplace\u001b[0m\u001b[1;33m(\u001b[0m\u001b[0mbody\u001b[0m\u001b[1;33m=\u001b[0m\u001b[0mset_base\u001b[0m\u001b[1;33m(\u001b[0m\u001b[0mresponse\u001b[0m\u001b[1;33m.\u001b[0m\u001b[0mbody\u001b[0m\u001b[1;33m,\u001b[0m \u001b[0murl\u001b[0m\u001b[1;33m)\u001b[0m\u001b[1;33m)\u001b[0m\u001b[1;33m\u001b[0m\u001b[0m\n",
        "\u001b[0m\n"
       ]
      },
      {
       "name": "stdout",
       "output_type": "stream",
       "stream": "stdout",
       "text": [
        "ipdb> n\n"
       ]
      },
      {
       "output_type": "stream",
       "stream": "stdout",
       "text": [
        "AssertionError: Assertio... twice',)\n",
        "> \u001b[1;32m<ipython-input-3-7e69e9f19a5a>\u001b[0m(32)\u001b[0;36mshow_xpath\u001b[1;34m()\u001b[0m\n",
        "\u001b[1;32m     31 \u001b[1;33m\u001b[1;32mdef\u001b[0m \u001b[0mshow_xpath\u001b[0m\u001b[1;33m(\u001b[0m\u001b[0murl\u001b[0m\u001b[1;33m,\u001b[0m \u001b[0mxpath\u001b[0m\u001b[1;33m,\u001b[0m \u001b[0mhover\u001b[0m\u001b[1;33m=\u001b[0m\u001b[0mFalse\u001b[0m\u001b[1;33m)\u001b[0m\u001b[1;33m:\u001b[0m\u001b[1;33m\u001b[0m\u001b[0m\n",
        "\u001b[0m\u001b[1;32m---> 32 \u001b[1;33m    \u001b[0mresponse\u001b[0m \u001b[1;33m=\u001b[0m \u001b[0mdownload\u001b[0m\u001b[1;33m(\u001b[0m\u001b[0murl\u001b[0m\u001b[1;33m)\u001b[0m\u001b[1;33m\u001b[0m\u001b[0m\n",
        "\u001b[0m\u001b[1;32m     33 \u001b[1;33m    \u001b[0mhxs\u001b[0m \u001b[1;33m=\u001b[0m \u001b[0mHtmlXPathSelector\u001b[0m\u001b[1;33m(\u001b[0m\u001b[0mresponse\u001b[0m\u001b[1;33m)\u001b[0m\u001b[1;33m\u001b[0m\u001b[0m\n",
        "\u001b[0m\n"
       ]
      },
      {
       "name": "stdout",
       "output_type": "stream",
       "stream": "stdout",
       "text": [
        "ipdb> n\n"
       ]
      },
      {
       "output_type": "stream",
       "stream": "stdout",
       "text": [
        "--Return--\n",
        "None\n",
        "> \u001b[1;32m<ipython-input-3-7e69e9f19a5a>\u001b[0m(32)\u001b[0;36mshow_xpath\u001b[1;34m()\u001b[0m\n",
        "\u001b[1;32m     31 \u001b[1;33m\u001b[1;32mdef\u001b[0m \u001b[0mshow_xpath\u001b[0m\u001b[1;33m(\u001b[0m\u001b[0murl\u001b[0m\u001b[1;33m,\u001b[0m \u001b[0mxpath\u001b[0m\u001b[1;33m,\u001b[0m \u001b[0mhover\u001b[0m\u001b[1;33m=\u001b[0m\u001b[0mFalse\u001b[0m\u001b[1;33m)\u001b[0m\u001b[1;33m:\u001b[0m\u001b[1;33m\u001b[0m\u001b[0m\n",
        "\u001b[0m\u001b[1;32m---> 32 \u001b[1;33m    \u001b[0mresponse\u001b[0m \u001b[1;33m=\u001b[0m \u001b[0mdownload\u001b[0m\u001b[1;33m(\u001b[0m\u001b[0murl\u001b[0m\u001b[1;33m)\u001b[0m\u001b[1;33m\u001b[0m\u001b[0m\n",
        "\u001b[0m\u001b[1;32m     33 \u001b[1;33m    \u001b[0mhxs\u001b[0m \u001b[1;33m=\u001b[0m \u001b[0mHtmlXPathSelector\u001b[0m\u001b[1;33m(\u001b[0m\u001b[0mresponse\u001b[0m\u001b[1;33m)\u001b[0m\u001b[1;33m\u001b[0m\u001b[0m\n",
        "\u001b[0m\n"
       ]
      },
      {
       "name": "stdout",
       "output_type": "stream",
       "stream": "stdout",
       "text": [
        "ipdb> response\n"
       ]
      },
      {
       "output_type": "stream",
       "stream": "stdout",
       "text": [
        "*** NameError: name 'response' is not defined\n"
       ]
      },
      {
       "name": "stdout",
       "output_type": "stream",
       "stream": "stdout",
       "text": [
        "ipdb> show_xpath\n"
       ]
      },
      {
       "output_type": "stream",
       "stream": "stdout",
       "text": [
        "<function show_xpath at 0x33fe140>\n"
       ]
      },
      {
       "name": "stdout",
       "output_type": "stream",
       "stream": "stdout",
       "text": [
        "ipdb> n\n"
       ]
      },
      {
       "output_type": "stream",
       "stream": "stdout",
       "text": [
        "AssertionError: Assertio... twice',)\n",
        "> \u001b[1;32m<ipython-input-4-abe010ed04a3>\u001b[0m(1)\u001b[0;36m<module>\u001b[1;34m()\u001b[0m\n",
        "\u001b[1;32m----> 1 \u001b[1;33m\u001b[0mshow_xpath\u001b[0m\u001b[1;33m(\u001b[0m\u001b[1;34m'http://crawlera.com'\u001b[0m\u001b[1;33m,\u001b[0m \u001b[1;34m'//a[contains(text(), \"i\")]'\u001b[0m\u001b[1;33m)\u001b[0m\u001b[1;33m\u001b[0m\u001b[0m\n",
        "\u001b[0m\n"
       ]
      },
      {
       "name": "stdout",
       "output_type": "stream",
       "stream": "stdout",
       "text": [
        "ipdb> n\n"
       ]
      },
      {
       "output_type": "stream",
       "stream": "stdout",
       "text": [
        "--Return--\n",
        "None\n",
        "> \u001b[1;32m<ipython-input-4-abe010ed04a3>\u001b[0m(1)\u001b[0;36m<module>\u001b[1;34m()\u001b[0m\n",
        "\u001b[1;32m----> 1 \u001b[1;33m\u001b[0mshow_xpath\u001b[0m\u001b[1;33m(\u001b[0m\u001b[1;34m'http://crawlera.com'\u001b[0m\u001b[1;33m,\u001b[0m \u001b[1;34m'//a[contains(text(), \"i\")]'\u001b[0m\u001b[1;33m)\u001b[0m\u001b[1;33m\u001b[0m\u001b[0m\n",
        "\u001b[0m\n"
       ]
      },
      {
       "name": "stdout",
       "output_type": "stream",
       "stream": "stdout",
       "text": [
        "ipdb> n\n"
       ]
      },
      {
       "output_type": "stream",
       "stream": "stdout",
       "text": [
        "AssertionError: Assertio... twice',)\n",
        "> \u001b[1;32m/home/vj/.virtualenvs/scrapy/local/lib/python2.7/site-packages/IPython/core/interactiveshell.py\u001b[0m(2883)\u001b[0;36mrun_code\u001b[1;34m()\u001b[0m\n",
        "\u001b[1;32m   2882 \u001b[1;33m                \u001b[1;31m#rprint('Running code', repr(code_obj)) # dbg\u001b[0m\u001b[1;33m\u001b[0m\u001b[1;33m\u001b[0m\u001b[0m\n",
        "\u001b[0m\u001b[1;32m-> 2883 \u001b[1;33m                \u001b[1;32mexec\u001b[0m\u001b[1;33m(\u001b[0m\u001b[0mcode_obj\u001b[0m\u001b[1;33m,\u001b[0m \u001b[0mself\u001b[0m\u001b[1;33m.\u001b[0m\u001b[0muser_global_ns\u001b[0m\u001b[1;33m,\u001b[0m \u001b[0mself\u001b[0m\u001b[1;33m.\u001b[0m\u001b[0muser_ns\u001b[0m\u001b[1;33m)\u001b[0m\u001b[1;33m\u001b[0m\u001b[0m\n",
        "\u001b[0m\u001b[1;32m   2884 \u001b[1;33m            \u001b[1;32mfinally\u001b[0m\u001b[1;33m:\u001b[0m\u001b[1;33m\u001b[0m\u001b[0m\n",
        "\u001b[0m\n"
       ]
      },
      {
       "name": "stdout",
       "output_type": "stream",
       "stream": "stdout",
       "text": [
        "ipdb> n\n"
       ]
      },
      {
       "output_type": "stream",
       "stream": "stdout",
       "text": [
        "> \u001b[1;32m/home/vj/.virtualenvs/scrapy/local/lib/python2.7/site-packages/IPython/core/interactiveshell.py\u001b[0m(2886)\u001b[0;36mrun_code\u001b[1;34m()\u001b[0m\n",
        "\u001b[1;32m   2885 \u001b[1;33m                \u001b[1;31m# Reset our crash handler in place\u001b[0m\u001b[1;33m\u001b[0m\u001b[1;33m\u001b[0m\u001b[0m\n",
        "\u001b[0m\u001b[1;32m-> 2886 \u001b[1;33m                \u001b[0msys\u001b[0m\u001b[1;33m.\u001b[0m\u001b[0mexcepthook\u001b[0m \u001b[1;33m=\u001b[0m \u001b[0mold_excepthook\u001b[0m\u001b[1;33m\u001b[0m\u001b[0m\n",
        "\u001b[0m\u001b[1;32m   2887 \u001b[1;33m        \u001b[1;32mexcept\u001b[0m \u001b[0mSystemExit\u001b[0m\u001b[1;33m:\u001b[0m\u001b[1;33m\u001b[0m\u001b[0m\n",
        "\u001b[0m\n"
       ]
      },
      {
       "name": "stdout",
       "output_type": "stream",
       "stream": "stdout",
       "text": [
        "ipdb> n\n"
       ]
      },
      {
       "output_type": "stream",
       "stream": "stdout",
       "text": [
        "> \u001b[1;32m/home/vj/.virtualenvs/scrapy/local/lib/python2.7/site-packages/IPython/core/interactiveshell.py\u001b[0m(2887)\u001b[0;36mrun_code\u001b[1;34m()\u001b[0m\n",
        "\u001b[1;32m   2886 \u001b[1;33m                \u001b[0msys\u001b[0m\u001b[1;33m.\u001b[0m\u001b[0mexcepthook\u001b[0m \u001b[1;33m=\u001b[0m \u001b[0mold_excepthook\u001b[0m\u001b[1;33m\u001b[0m\u001b[0m\n",
        "\u001b[0m\u001b[1;32m-> 2887 \u001b[1;33m        \u001b[1;32mexcept\u001b[0m \u001b[0mSystemExit\u001b[0m\u001b[1;33m:\u001b[0m\u001b[1;33m\u001b[0m\u001b[0m\n",
        "\u001b[0m\u001b[1;32m   2888 \u001b[1;33m            \u001b[0mself\u001b[0m\u001b[1;33m.\u001b[0m\u001b[0mshowtraceback\u001b[0m\u001b[1;33m(\u001b[0m\u001b[0mexception_only\u001b[0m\u001b[1;33m=\u001b[0m\u001b[0mTrue\u001b[0m\u001b[1;33m)\u001b[0m\u001b[1;33m\u001b[0m\u001b[0m\n",
        "\u001b[0m\n"
       ]
      },
      {
       "name": "stdout",
       "output_type": "stream",
       "stream": "stdout",
       "text": [
        "ipdb> n\n"
       ]
      },
      {
       "output_type": "stream",
       "stream": "stdout",
       "text": [
        "> \u001b[1;32m/home/vj/.virtualenvs/scrapy/local/lib/python2.7/site-packages/IPython/core/interactiveshell.py\u001b[0m(2890)\u001b[0;36mrun_code\u001b[1;34m()\u001b[0m\n",
        "\u001b[1;32m   2889 \u001b[1;33m            \u001b[0mwarn\u001b[0m\u001b[1;33m(\u001b[0m\u001b[1;34m\"To exit: use 'exit', 'quit', or Ctrl-D.\"\u001b[0m\u001b[1;33m,\u001b[0m \u001b[0mlevel\u001b[0m\u001b[1;33m=\u001b[0m\u001b[1;36m1\u001b[0m\u001b[1;33m)\u001b[0m\u001b[1;33m\u001b[0m\u001b[0m\n",
        "\u001b[0m\u001b[1;32m-> 2890 \u001b[1;33m        \u001b[1;32mexcept\u001b[0m \u001b[0mself\u001b[0m\u001b[1;33m.\u001b[0m\u001b[0mcustom_exceptions\u001b[0m\u001b[1;33m:\u001b[0m\u001b[1;33m\u001b[0m\u001b[0m\n",
        "\u001b[0m\u001b[1;32m   2891 \u001b[1;33m            \u001b[0metype\u001b[0m\u001b[1;33m,\u001b[0m\u001b[0mvalue\u001b[0m\u001b[1;33m,\u001b[0m\u001b[0mtb\u001b[0m \u001b[1;33m=\u001b[0m \u001b[0msys\u001b[0m\u001b[1;33m.\u001b[0m\u001b[0mexc_info\u001b[0m\u001b[1;33m(\u001b[0m\u001b[1;33m)\u001b[0m\u001b[1;33m\u001b[0m\u001b[0m\n",
        "\u001b[0m\n"
       ]
      },
      {
       "name": "stdout",
       "output_type": "stream",
       "stream": "stdout",
       "text": [
        "ipdb> n\n"
       ]
      },
      {
       "output_type": "stream",
       "stream": "stdout",
       "text": [
        "> \u001b[1;32m/home/vj/.virtualenvs/scrapy/local/lib/python2.7/site-packages/IPython/core/interactiveshell.py\u001b[0m(2893)\u001b[0;36mrun_code\u001b[1;34m()\u001b[0m\n",
        "\u001b[1;32m   2892 \u001b[1;33m            \u001b[0mself\u001b[0m\u001b[1;33m.\u001b[0m\u001b[0mCustomTB\u001b[0m\u001b[1;33m(\u001b[0m\u001b[0metype\u001b[0m\u001b[1;33m,\u001b[0m\u001b[0mvalue\u001b[0m\u001b[1;33m,\u001b[0m\u001b[0mtb\u001b[0m\u001b[1;33m)\u001b[0m\u001b[1;33m\u001b[0m\u001b[0m\n",
        "\u001b[0m\u001b[1;32m-> 2893 \u001b[1;33m        \u001b[1;32mexcept\u001b[0m\u001b[1;33m:\u001b[0m\u001b[1;33m\u001b[0m\u001b[0m\n",
        "\u001b[0m\u001b[1;32m   2894 \u001b[1;33m            \u001b[0mself\u001b[0m\u001b[1;33m.\u001b[0m\u001b[0mshowtraceback\u001b[0m\u001b[1;33m(\u001b[0m\u001b[1;33m)\u001b[0m\u001b[1;33m\u001b[0m\u001b[0m\n",
        "\u001b[0m\n"
       ]
      },
      {
       "name": "stdout",
       "output_type": "stream",
       "stream": "stdout",
       "text": [
        "ipdb> n\n"
       ]
      },
      {
       "output_type": "stream",
       "stream": "stdout",
       "text": [
        "> \u001b[1;32m/home/vj/.virtualenvs/scrapy/local/lib/python2.7/site-packages/IPython/core/interactiveshell.py\u001b[0m(2894)\u001b[0;36mrun_code\u001b[1;34m()\u001b[0m\n",
        "\u001b[1;32m   2893 \u001b[1;33m        \u001b[1;32mexcept\u001b[0m\u001b[1;33m:\u001b[0m\u001b[1;33m\u001b[0m\u001b[0m\n",
        "\u001b[0m\u001b[1;32m-> 2894 \u001b[1;33m            \u001b[0mself\u001b[0m\u001b[1;33m.\u001b[0m\u001b[0mshowtraceback\u001b[0m\u001b[1;33m(\u001b[0m\u001b[1;33m)\u001b[0m\u001b[1;33m\u001b[0m\u001b[0m\n",
        "\u001b[0m\u001b[1;32m   2895 \u001b[1;33m        \u001b[1;32melse\u001b[0m\u001b[1;33m:\u001b[0m\u001b[1;33m\u001b[0m\u001b[0m\n",
        "\u001b[0m\n"
       ]
      },
      {
       "name": "stdout",
       "output_type": "stream",
       "stream": "stdout",
       "text": [
        "ipdb> \n"
       ]
      },
      {
       "ename": "AssertionError",
       "evalue": "cannot start a process twice",
       "output_type": "pyerr",
       "traceback": [
        "\u001b[1;31m---------------------------------------------------------------------------\u001b[0m\n\u001b[1;31mAssertionError\u001b[0m                            Traceback (most recent call last)",
        "\u001b[1;32m<ipython-input-4-abe010ed04a3>\u001b[0m in \u001b[0;36m<module>\u001b[1;34m()\u001b[0m\n\u001b[1;32m----> 1\u001b[1;33m \u001b[0mshow_xpath\u001b[0m\u001b[1;33m(\u001b[0m\u001b[1;34m'http://crawlera.com'\u001b[0m\u001b[1;33m,\u001b[0m \u001b[1;34m'//a[contains(text(), \"i\")]'\u001b[0m\u001b[1;33m)\u001b[0m\u001b[1;33m\u001b[0m\u001b[0m\n\u001b[0m",
        "\u001b[1;32m<ipython-input-3-7e69e9f19a5a>\u001b[0m in \u001b[0;36mshow_xpath\u001b[1;34m(url, xpath, hover)\u001b[0m\n\u001b[0;32m     30\u001b[0m \u001b[1;33m\u001b[0m\u001b[0m\n\u001b[0;32m     31\u001b[0m \u001b[1;32mdef\u001b[0m \u001b[0mshow_xpath\u001b[0m\u001b[1;33m(\u001b[0m\u001b[0murl\u001b[0m\u001b[1;33m,\u001b[0m \u001b[0mxpath\u001b[0m\u001b[1;33m,\u001b[0m \u001b[0mhover\u001b[0m\u001b[1;33m=\u001b[0m\u001b[0mFalse\u001b[0m\u001b[1;33m)\u001b[0m\u001b[1;33m:\u001b[0m\u001b[1;33m\u001b[0m\u001b[0m\n\u001b[1;32m---> 32\u001b[1;33m     \u001b[0mresponse\u001b[0m \u001b[1;33m=\u001b[0m \u001b[0mdownload\u001b[0m\u001b[1;33m(\u001b[0m\u001b[0murl\u001b[0m\u001b[1;33m)\u001b[0m\u001b[1;33m\u001b[0m\u001b[0m\n\u001b[0m\u001b[0;32m     33\u001b[0m     \u001b[0mhxs\u001b[0m \u001b[1;33m=\u001b[0m \u001b[0mHtmlXPathSelector\u001b[0m\u001b[1;33m(\u001b[0m\u001b[0mresponse\u001b[0m\u001b[1;33m)\u001b[0m\u001b[1;33m\u001b[0m\u001b[0m\n\u001b[0;32m     34\u001b[0m     \u001b[0mshow_hxs_select\u001b[0m\u001b[1;33m(\u001b[0m\u001b[0mhxs\u001b[0m\u001b[1;33m,\u001b[0m \u001b[0mxpath\u001b[0m\u001b[1;33m)\u001b[0m\u001b[1;33m\u001b[0m\u001b[0m\n",
        "\u001b[1;32m<ipython-input-2-514c60337501>\u001b[0m in \u001b[0;36mdownload\u001b[1;34m(url)\u001b[0m\n\u001b[0;32m     91\u001b[0m     \u001b[0mDownload\u001b[0m \u001b[1;34m'url'\u001b[0m \u001b[0musing\u001b[0m \u001b[0mScrapy\u001b[0m\u001b[1;33m.\u001b[0m \u001b[0mReturn\u001b[0m \u001b[0mResponse\u001b[0m\u001b[1;33m.\u001b[0m\u001b[1;33m\u001b[0m\u001b[0m\n\u001b[0;32m     92\u001b[0m     \"\"\"\n\u001b[1;32m---> 93\u001b[1;33m     \u001b[0mresponse\u001b[0m \u001b[1;33m=\u001b[0m \u001b[0m_download\u001b[0m\u001b[1;33m(\u001b[0m\u001b[0murl\u001b[0m\u001b[1;33m)\u001b[0m\u001b[1;33m\u001b[0m\u001b[0m\n\u001b[0m\u001b[0;32m     94\u001b[0m     \u001b[1;32mreturn\u001b[0m \u001b[0mresponse\u001b[0m\u001b[1;33m.\u001b[0m\u001b[0mreplace\u001b[0m\u001b[1;33m(\u001b[0m\u001b[0mbody\u001b[0m\u001b[1;33m=\u001b[0m\u001b[0mset_base\u001b[0m\u001b[1;33m(\u001b[0m\u001b[0mresponse\u001b[0m\u001b[1;33m.\u001b[0m\u001b[0mbody\u001b[0m\u001b[1;33m,\u001b[0m \u001b[0murl\u001b[0m\u001b[1;33m)\u001b[0m\u001b[1;33m)\u001b[0m\u001b[1;33m\u001b[0m\u001b[0m\n",
        "\u001b[1;32m<ipython-input-2-514c60337501>\u001b[0m in \u001b[0;36m_download\u001b[1;34m(url)\u001b[0m\n\u001b[0;32m     76\u001b[0m     \u001b[0mspider\u001b[0m \u001b[1;33m=\u001b[0m \u001b[0mResponseSpider\u001b[0m\u001b[1;33m(\u001b[0m\u001b[0murl\u001b[0m\u001b[1;33m)\u001b[0m\u001b[1;33m\u001b[0m\u001b[0m\n\u001b[0;32m     77\u001b[0m     \u001b[0mcrawler\u001b[0m \u001b[1;33m=\u001b[0m \u001b[0mCrawlerWorker\u001b[0m\u001b[1;33m(\u001b[0m\u001b[0mresult_queue\u001b[0m\u001b[1;33m,\u001b[0m \u001b[0mspider\u001b[0m\u001b[1;33m)\u001b[0m\u001b[1;33m\u001b[0m\u001b[0m\n\u001b[1;32m---> 78\u001b[1;33m     \u001b[0mcrawler\u001b[0m\u001b[1;33m.\u001b[0m\u001b[0mstart\u001b[0m\u001b[1;33m(\u001b[0m\u001b[1;33m)\u001b[0m\u001b[1;33m\u001b[0m\u001b[0m\n\u001b[0m\u001b[0;32m     79\u001b[0m     \u001b[0mitem\u001b[0m \u001b[1;33m=\u001b[0m \u001b[0mresult_queue\u001b[0m\u001b[1;33m.\u001b[0m\u001b[0mget\u001b[0m\u001b[1;33m(\u001b[0m\u001b[1;33m)\u001b[0m\u001b[1;33m[\u001b[0m\u001b[1;36m0\u001b[0m\u001b[1;33m]\u001b[0m\u001b[1;33m\u001b[0m\u001b[0m\n\u001b[0;32m     80\u001b[0m     \u001b[0mresult_queue\u001b[0m\u001b[1;33m.\u001b[0m\u001b[0mcancel_join_thread\u001b[0m\u001b[1;33m(\u001b[0m\u001b[1;33m)\u001b[0m\u001b[1;33m\u001b[0m\u001b[0m\n",
        "\u001b[1;32m/usr/lib/python2.7/multiprocessing/process.pyc\u001b[0m in \u001b[0;36mstart\u001b[1;34m(self)\u001b[0m\n\u001b[0;32m    118\u001b[0m         \u001b[0mStart\u001b[0m \u001b[0mchild\u001b[0m \u001b[0mprocess\u001b[0m\u001b[1;33m\u001b[0m\u001b[0m\n\u001b[0;32m    119\u001b[0m         '''\n\u001b[1;32m--> 120\u001b[1;33m         \u001b[1;32massert\u001b[0m \u001b[0mself\u001b[0m\u001b[1;33m.\u001b[0m\u001b[0m_popen\u001b[0m \u001b[1;32mis\u001b[0m \u001b[0mNone\u001b[0m\u001b[1;33m,\u001b[0m \u001b[1;34m'cannot start a process twice'\u001b[0m\u001b[1;33m\u001b[0m\u001b[0m\n\u001b[0m\u001b[0;32m    121\u001b[0m         \u001b[1;32massert\u001b[0m \u001b[0mself\u001b[0m\u001b[1;33m.\u001b[0m\u001b[0m_parent_pid\u001b[0m \u001b[1;33m==\u001b[0m \u001b[0mos\u001b[0m\u001b[1;33m.\u001b[0m\u001b[0mgetpid\u001b[0m\u001b[1;33m(\u001b[0m\u001b[1;33m)\u001b[0m\u001b[1;33m,\u001b[0m\u001b[0;31m \u001b[0m\u001b[0;31m\\\u001b[0m\u001b[1;33m\u001b[0m\u001b[0m\n\u001b[0;32m    122\u001b[0m                \u001b[1;34m'can only start a process object created by current process'\u001b[0m\u001b[1;33m\u001b[0m\u001b[0m\n",
        "\u001b[1;31mAssertionError\u001b[0m: cannot start a process twice"
       ]
      },
      {
       "output_type": "stream",
       "stream": "stdout",
       "text": [
        "> \u001b[1;32m/home/vj/.virtualenvs/scrapy/local/lib/python2.7/site-packages/IPython/core/interactiveshell.py\u001b[0m(2897)\u001b[0;36mrun_code\u001b[1;34m()\u001b[0m\n",
        "\u001b[1;32m   2896 \u001b[1;33m            \u001b[0moutflag\u001b[0m \u001b[1;33m=\u001b[0m \u001b[1;36m0\u001b[0m\u001b[1;33m\u001b[0m\u001b[0m\n",
        "\u001b[0m\u001b[1;32m-> 2897 \u001b[1;33m        \u001b[1;32mreturn\u001b[0m \u001b[0moutflag\u001b[0m\u001b[1;33m\u001b[0m\u001b[0m\n",
        "\u001b[0m\u001b[1;32m   2898 \u001b[1;33m\u001b[1;33m\u001b[0m\u001b[0m\n",
        "\u001b[0m\n"
       ]
      },
      {
       "name": "stdout",
       "output_type": "stream",
       "stream": "stdout",
       "text": [
        "ipdb> n\n"
       ]
      },
      {
       "output_type": "stream",
       "stream": "stdout",
       "text": [
        "--Return--\n",
        "1\n",
        "> \u001b[1;32m/home/vj/.virtualenvs/scrapy/local/lib/python2.7/site-packages/IPython/core/interactiveshell.py\u001b[0m(2897)\u001b[0;36mrun_code\u001b[1;34m()\u001b[0m\n",
        "\u001b[1;32m   2896 \u001b[1;33m            \u001b[0moutflag\u001b[0m \u001b[1;33m=\u001b[0m \u001b[1;36m0\u001b[0m\u001b[1;33m\u001b[0m\u001b[0m\n",
        "\u001b[0m\u001b[1;32m-> 2897 \u001b[1;33m        \u001b[1;32mreturn\u001b[0m \u001b[0moutflag\u001b[0m\u001b[1;33m\u001b[0m\u001b[0m\n",
        "\u001b[0m\u001b[1;32m   2898 \u001b[1;33m\u001b[1;33m\u001b[0m\u001b[0m\n",
        "\u001b[0m\n"
       ]
      },
      {
       "name": "stdout",
       "output_type": "stream",
       "stream": "stdout",
       "text": [
        "ipdb> n\n"
       ]
      },
      {
       "output_type": "stream",
       "stream": "stdout",
       "text": [
        "> \u001b[1;32m/home/vj/.virtualenvs/scrapy/local/lib/python2.7/site-packages/IPython/core/interactiveshell.py\u001b[0m(2834)\u001b[0;36mrun_ast_nodes\u001b[1;34m()\u001b[0m\n",
        "\u001b[1;32m   2833 \u001b[1;33m                \u001b[1;32mif\u001b[0m \u001b[0mself\u001b[0m\u001b[1;33m.\u001b[0m\u001b[0mrun_code\u001b[0m\u001b[1;33m(\u001b[0m\u001b[0mcode\u001b[0m\u001b[1;33m)\u001b[0m\u001b[1;33m:\u001b[0m\u001b[1;33m\u001b[0m\u001b[0m\n",
        "\u001b[0m\u001b[1;32m-> 2834 \u001b[1;33m                    \u001b[1;32mreturn\u001b[0m \u001b[0mTrue\u001b[0m\u001b[1;33m\u001b[0m\u001b[0m\n",
        "\u001b[0m\u001b[1;32m   2835 \u001b[1;33m\u001b[1;33m\u001b[0m\u001b[0m\n",
        "\u001b[0m\n"
       ]
      },
      {
       "name": "stdout",
       "output_type": "stream",
       "stream": "stdout",
       "text": [
        "ipdb> n\n"
       ]
      },
      {
       "output_type": "stream",
       "stream": "stdout",
       "text": [
        "--Return--\n",
        "True\n",
        "> \u001b[1;32m/home/vj/.virtualenvs/scrapy/local/lib/python2.7/site-packages/IPython/core/interactiveshell.py\u001b[0m(2834)\u001b[0;36mrun_ast_nodes\u001b[1;34m()\u001b[0m\n",
        "\u001b[1;32m   2833 \u001b[1;33m                \u001b[1;32mif\u001b[0m \u001b[0mself\u001b[0m\u001b[1;33m.\u001b[0m\u001b[0mrun_code\u001b[0m\u001b[1;33m(\u001b[0m\u001b[0mcode\u001b[0m\u001b[1;33m)\u001b[0m\u001b[1;33m:\u001b[0m\u001b[1;33m\u001b[0m\u001b[0m\n",
        "\u001b[0m\u001b[1;32m-> 2834 \u001b[1;33m                    \u001b[1;32mreturn\u001b[0m \u001b[0mTrue\u001b[0m\u001b[1;33m\u001b[0m\u001b[0m\n",
        "\u001b[0m\u001b[1;32m   2835 \u001b[1;33m\u001b[1;33m\u001b[0m\u001b[0m\n",
        "\u001b[0m\n"
       ]
      },
      {
       "name": "stdout",
       "output_type": "stream",
       "stream": "stdout",
       "text": [
        "ipdb> n\n"
       ]
      },
      {
       "output_type": "stream",
       "stream": "stdout",
       "text": [
        "> \u001b[1;32m/home/vj/.virtualenvs/scrapy/local/lib/python2.7/site-packages/IPython/core/interactiveshell.py\u001b[0m(2743)\u001b[0;36mrun_cell\u001b[1;34m()\u001b[0m\n",
        "\u001b[1;32m   2742 \u001b[1;33m\u001b[1;33m\u001b[0m\u001b[0m\n",
        "\u001b[0m\u001b[1;32m-> 2743 \u001b[1;33m                \u001b[0mself\u001b[0m\u001b[1;33m.\u001b[0m\u001b[0mevents\u001b[0m\u001b[1;33m.\u001b[0m\u001b[0mtrigger\u001b[0m\u001b[1;33m(\u001b[0m\u001b[1;34m'post_execute'\u001b[0m\u001b[1;33m)\u001b[0m\u001b[1;33m\u001b[0m\u001b[0m\n",
        "\u001b[0m\u001b[1;32m   2744 \u001b[1;33m                \u001b[1;32mif\u001b[0m \u001b[1;32mnot\u001b[0m \u001b[0msilent\u001b[0m\u001b[1;33m:\u001b[0m\u001b[1;33m\u001b[0m\u001b[0m\n",
        "\u001b[0m\n"
       ]
      },
      {
       "name": "stdout",
       "output_type": "stream",
       "stream": "stdout",
       "text": [
        "ipdb> \n"
       ]
      },
      {
       "output_type": "stream",
       "stream": "stdout",
       "text": [
        "> \u001b[1;32m/home/vj/.virtualenvs/scrapy/local/lib/python2.7/site-packages/IPython/core/interactiveshell.py\u001b[0m(2744)\u001b[0;36mrun_cell\u001b[1;34m()\u001b[0m\n",
        "\u001b[1;32m   2743 \u001b[1;33m                \u001b[0mself\u001b[0m\u001b[1;33m.\u001b[0m\u001b[0mevents\u001b[0m\u001b[1;33m.\u001b[0m\u001b[0mtrigger\u001b[0m\u001b[1;33m(\u001b[0m\u001b[1;34m'post_execute'\u001b[0m\u001b[1;33m)\u001b[0m\u001b[1;33m\u001b[0m\u001b[0m\n",
        "\u001b[0m\u001b[1;32m-> 2744 \u001b[1;33m                \u001b[1;32mif\u001b[0m \u001b[1;32mnot\u001b[0m \u001b[0msilent\u001b[0m\u001b[1;33m:\u001b[0m\u001b[1;33m\u001b[0m\u001b[0m\n",
        "\u001b[0m\u001b[1;32m   2745 \u001b[1;33m                    \u001b[0mself\u001b[0m\u001b[1;33m.\u001b[0m\u001b[0mevents\u001b[0m\u001b[1;33m.\u001b[0m\u001b[0mtrigger\u001b[0m\u001b[1;33m(\u001b[0m\u001b[1;34m'post_run_cell'\u001b[0m\u001b[1;33m)\u001b[0m\u001b[1;33m\u001b[0m\u001b[0m\n",
        "\u001b[0m\n"
       ]
      },
      {
       "name": "stdout",
       "output_type": "stream",
       "stream": "stdout",
       "text": [
        "ipdb> n\n"
       ]
      },
      {
       "output_type": "stream",
       "stream": "stdout",
       "text": [
        "> \u001b[1;32m/home/vj/.virtualenvs/scrapy/local/lib/python2.7/site-packages/IPython/core/interactiveshell.py\u001b[0m(2745)\u001b[0;36mrun_cell\u001b[1;34m()\u001b[0m\n",
        "\u001b[1;32m   2744 \u001b[1;33m                \u001b[1;32mif\u001b[0m \u001b[1;32mnot\u001b[0m \u001b[0msilent\u001b[0m\u001b[1;33m:\u001b[0m\u001b[1;33m\u001b[0m\u001b[0m\n",
        "\u001b[0m\u001b[1;32m-> 2745 \u001b[1;33m                    \u001b[0mself\u001b[0m\u001b[1;33m.\u001b[0m\u001b[0mevents\u001b[0m\u001b[1;33m.\u001b[0m\u001b[0mtrigger\u001b[0m\u001b[1;33m(\u001b[0m\u001b[1;34m'post_run_cell'\u001b[0m\u001b[1;33m)\u001b[0m\u001b[1;33m\u001b[0m\u001b[0m\n",
        "\u001b[0m\u001b[1;32m   2746 \u001b[1;33m\u001b[1;33m\u001b[0m\u001b[0m\n",
        "\u001b[0m\n"
       ]
      },
      {
       "name": "stdout",
       "output_type": "stream",
       "stream": "stdout",
       "text": [
        "ipdb> n\n"
       ]
      },
      {
       "output_type": "stream",
       "stream": "stdout",
       "text": [
        "> \u001b[1;32m/home/vj/.virtualenvs/scrapy/local/lib/python2.7/site-packages/IPython/core/interactiveshell.py\u001b[0m(2747)\u001b[0;36mrun_cell\u001b[1;34m()\u001b[0m\n",
        "\u001b[1;32m   2746 \u001b[1;33m\u001b[1;33m\u001b[0m\u001b[0m\n",
        "\u001b[0m\u001b[1;32m-> 2747 \u001b[1;33m        \u001b[1;32mif\u001b[0m \u001b[0mstore_history\u001b[0m\u001b[1;33m:\u001b[0m\u001b[1;33m\u001b[0m\u001b[0m\n",
        "\u001b[0m\u001b[1;32m   2748 \u001b[1;33m            \u001b[1;31m# Write output to the database. Does nothing unless\u001b[0m\u001b[1;33m\u001b[0m\u001b[1;33m\u001b[0m\u001b[0m\n",
        "\u001b[0m\n"
       ]
      },
      {
       "name": "stdout",
       "output_type": "stream",
       "stream": "stdout",
       "text": [
        "ipdb> \n"
       ]
      },
      {
       "output_type": "stream",
       "stream": "stdout",
       "text": [
        "> \u001b[1;32m/home/vj/.virtualenvs/scrapy/local/lib/python2.7/site-packages/IPython/core/interactiveshell.py\u001b[0m(2750)\u001b[0;36mrun_cell\u001b[1;34m()\u001b[0m\n",
        "\u001b[1;32m   2749 \u001b[1;33m            \u001b[1;31m# history output logging is enabled.\u001b[0m\u001b[1;33m\u001b[0m\u001b[1;33m\u001b[0m\u001b[0m\n",
        "\u001b[0m\u001b[1;32m-> 2750 \u001b[1;33m            \u001b[0mself\u001b[0m\u001b[1;33m.\u001b[0m\u001b[0mhistory_manager\u001b[0m\u001b[1;33m.\u001b[0m\u001b[0mstore_output\u001b[0m\u001b[1;33m(\u001b[0m\u001b[0mself\u001b[0m\u001b[1;33m.\u001b[0m\u001b[0mexecution_count\u001b[0m\u001b[1;33m)\u001b[0m\u001b[1;33m\u001b[0m\u001b[0m\n",
        "\u001b[0m\u001b[1;32m   2751 \u001b[1;33m            \u001b[1;31m# Each cell is a *single* input, regardless of how many lines it has\u001b[0m\u001b[1;33m\u001b[0m\u001b[1;33m\u001b[0m\u001b[0m\n",
        "\u001b[0m\n"
       ]
      },
      {
       "name": "stdout",
       "output_type": "stream",
       "stream": "stdout",
       "text": [
        "ipdb> n\n"
       ]
      },
      {
       "output_type": "stream",
       "stream": "stdout",
       "text": [
        "> \u001b[1;32m/home/vj/.virtualenvs/scrapy/local/lib/python2.7/site-packages/IPython/core/interactiveshell.py\u001b[0m(2752)\u001b[0;36mrun_cell\u001b[1;34m()\u001b[0m\n",
        "\u001b[1;32m   2751 \u001b[1;33m            \u001b[1;31m# Each cell is a *single* input, regardless of how many lines it has\u001b[0m\u001b[1;33m\u001b[0m\u001b[1;33m\u001b[0m\u001b[0m\n",
        "\u001b[0m\u001b[1;32m-> 2752 \u001b[1;33m            \u001b[0mself\u001b[0m\u001b[1;33m.\u001b[0m\u001b[0mexecution_count\u001b[0m \u001b[1;33m+=\u001b[0m \u001b[1;36m1\u001b[0m\u001b[1;33m\u001b[0m\u001b[0m\n",
        "\u001b[0m\u001b[1;32m   2753 \u001b[1;33m\u001b[1;33m\u001b[0m\u001b[0m\n",
        "\u001b[0m\n"
       ]
      },
      {
       "name": "stdout",
       "output_type": "stream",
       "stream": "stdout",
       "text": [
        "ipdb> n\n"
       ]
      },
      {
       "output_type": "stream",
       "stream": "stdout",
       "text": [
        "--Return--\n",
        "None\n",
        "> \u001b[1;32m/home/vj/.virtualenvs/scrapy/local/lib/python2.7/site-packages/IPython/core/interactiveshell.py\u001b[0m(2752)\u001b[0;36mrun_cell\u001b[1;34m()\u001b[0m\n",
        "\u001b[1;32m   2751 \u001b[1;33m            \u001b[1;31m# Each cell is a *single* input, regardless of how many lines it has\u001b[0m\u001b[1;33m\u001b[0m\u001b[1;33m\u001b[0m\u001b[0m\n",
        "\u001b[0m\u001b[1;32m-> 2752 \u001b[1;33m            \u001b[0mself\u001b[0m\u001b[1;33m.\u001b[0m\u001b[0mexecution_count\u001b[0m \u001b[1;33m+=\u001b[0m \u001b[1;36m1\u001b[0m\u001b[1;33m\u001b[0m\u001b[0m\n",
        "\u001b[0m\u001b[1;32m   2753 \u001b[1;33m\u001b[1;33m\u001b[0m\u001b[0m\n",
        "\u001b[0m\n"
       ]
      },
      {
       "name": "stdout",
       "output_type": "stream",
       "stream": "stdout",
       "text": [
        "ipdb> n\n"
       ]
      },
      {
       "output_type": "stream",
       "stream": "stdout",
       "text": [
        "> \u001b[1;32m/home/vj/.virtualenvs/scrapy/local/lib/python2.7/site-packages/IPython/kernel/zmq/ipkernel.py\u001b[0m(402)\u001b[0;36mexecute_request\u001b[1;34m()\u001b[0m\n",
        "\u001b[1;32m    401 \u001b[1;33m        \u001b[1;32melse\u001b[0m\u001b[1;33m:\u001b[0m\u001b[1;33m\u001b[0m\u001b[0m\n",
        "\u001b[0m\u001b[1;32m--> 402 \u001b[1;33m            \u001b[0mstatus\u001b[0m \u001b[1;33m=\u001b[0m \u001b[1;34mu'ok'\u001b[0m\u001b[1;33m\u001b[0m\u001b[0m\n",
        "\u001b[0m\u001b[1;32m    403 \u001b[1;33m        \u001b[1;32mfinally\u001b[0m\u001b[1;33m:\u001b[0m\u001b[1;33m\u001b[0m\u001b[0m\n",
        "\u001b[0m\n"
       ]
      },
      {
       "name": "stdout",
       "output_type": "stream",
       "stream": "stdout",
       "text": [
        "ipdb> n\n"
       ]
      },
      {
       "output_type": "stream",
       "stream": "stdout",
       "text": [
        "> \u001b[1;32m/home/vj/.virtualenvs/scrapy/local/lib/python2.7/site-packages/IPython/kernel/zmq/ipkernel.py\u001b[0m(405)\u001b[0;36mexecute_request\u001b[1;34m()\u001b[0m\n",
        "\u001b[1;32m    404 \u001b[1;33m            \u001b[1;31m# Restore raw_input.\u001b[0m\u001b[1;33m\u001b[0m\u001b[1;33m\u001b[0m\u001b[0m\n",
        "\u001b[0m\u001b[1;32m--> 405 \u001b[1;33m             \u001b[1;32mif\u001b[0m \u001b[0mpy3compat\u001b[0m\u001b[1;33m.\u001b[0m\u001b[0mPY3\u001b[0m\u001b[1;33m:\u001b[0m\u001b[1;33m\u001b[0m\u001b[0m\n",
        "\u001b[0m\u001b[1;32m    406 \u001b[1;33m                 \u001b[0mbuiltin_mod\u001b[0m\u001b[1;33m.\u001b[0m\u001b[0minput\u001b[0m \u001b[1;33m=\u001b[0m \u001b[0mself\u001b[0m\u001b[1;33m.\u001b[0m\u001b[0m_sys_raw_input\u001b[0m\u001b[1;33m\u001b[0m\u001b[0m\n",
        "\u001b[0m\n"
       ]
      },
      {
       "name": "stdout",
       "output_type": "stream",
       "stream": "stdout",
       "text": [
        "ipdb> n\n"
       ]
      },
      {
       "output_type": "stream",
       "stream": "stdout",
       "text": [
        "> \u001b[1;32m/home/vj/.virtualenvs/scrapy/local/lib/python2.7/site-packages/IPython/kernel/zmq/ipkernel.py\u001b[0m(408)\u001b[0;36mexecute_request\u001b[1;34m()\u001b[0m\n",
        "\u001b[1;32m    407 \u001b[1;33m             \u001b[1;32melse\u001b[0m\u001b[1;33m:\u001b[0m\u001b[1;33m\u001b[0m\u001b[0m\n",
        "\u001b[0m\u001b[1;32m--> 408 \u001b[1;33m                 \u001b[0mbuiltin_mod\u001b[0m\u001b[1;33m.\u001b[0m\u001b[0mraw_input\u001b[0m \u001b[1;33m=\u001b[0m \u001b[0mself\u001b[0m\u001b[1;33m.\u001b[0m\u001b[0m_sys_raw_input\u001b[0m\u001b[1;33m\u001b[0m\u001b[0m\n",
        "\u001b[0m\u001b[1;32m    409 \u001b[1;33m                 \u001b[0mbuiltin_mod\u001b[0m\u001b[1;33m.\u001b[0m\u001b[0minput\u001b[0m \u001b[1;33m=\u001b[0m \u001b[0mself\u001b[0m\u001b[1;33m.\u001b[0m\u001b[0m_sys_eval_input\u001b[0m\u001b[1;33m\u001b[0m\u001b[0m\n",
        "\u001b[0m\n"
       ]
      },
      {
       "name": "stdout",
       "output_type": "stream",
       "stream": "stdout",
       "text": [
        "ipdb> n\n"
       ]
      }
     ]
    },
    {
     "cell_type": "code",
     "collapsed": false,
     "input": [],
     "language": "python",
     "metadata": {},
     "outputs": []
    }
   ],
   "metadata": {}
  }
 ]
}